{
 "cells": [
  {
   "cell_type": "markdown",
   "id": "9b1eaacf",
   "metadata": {},
   "source": [
    "### import"
   ]
  },
  {
   "cell_type": "code",
   "execution_count": 1,
   "id": "48273735",
   "metadata": {},
   "outputs": [],
   "source": [
    "import numpy as np\n",
    "import scipy.stats as stats\n",
    "import seaborn as sns\n",
    "import matplotlib.pyplot as plt\n",
    "import pandas as pd\n",
    "\n",
    "from sklearn.linear_model import LinearRegression, Lasso\n",
    "from sklearn.preprocessing import StandardScaler\n",
    "from sklearn.model_selection import train_test_split\n",
    "\n",
    "\n",
    "plt.style.use('ggplot')\n",
    "\n",
    "%config InlineBackend.figure_format = 'retina'\n",
    "%matplotlib inline"
   ]
  },
  {
   "cell_type": "markdown",
   "id": "f5b6ffe8",
   "metadata": {},
   "source": [
    "### Data"
   ]
  },
  {
   "cell_type": "code",
   "execution_count": 2,
   "id": "b51dba50",
   "metadata": {},
   "outputs": [
    {
     "data": {
      "text/plain": [
       "(0, 33)"
      ]
     },
     "execution_count": 2,
     "metadata": {},
     "output_type": "execute_result"
    }
   ],
   "source": [
    "data = pd.read_csv(\"telemetry_2021fall.csv\", na_values=np.nan)\n",
    "codebook = pd.read_excel(\"codeSpark_telemetry_codebook.xlsx\")\n",
    "df_nonan = data.dropna()\n",
    "df_nonan.shape"
   ]
  },
  {
   "cell_type": "code",
   "execution_count": 3,
   "id": "fea9b967",
   "metadata": {
    "scrolled": false
   },
   "outputs": [
    {
     "data": {
      "text/html": [
       "<div>\n",
       "<style scoped>\n",
       "    .dataframe tbody tr th:only-of-type {\n",
       "        vertical-align: middle;\n",
       "    }\n",
       "\n",
       "    .dataframe tbody tr th {\n",
       "        vertical-align: top;\n",
       "    }\n",
       "\n",
       "    .dataframe thead th {\n",
       "        text-align: right;\n",
       "    }\n",
       "</style>\n",
       "<table border=\"1\" class=\"dataframe\">\n",
       "  <thead>\n",
       "    <tr style=\"text-align: right;\">\n",
       "      <th></th>\n",
       "      <th>index</th>\n",
       "      <th>childId</th>\n",
       "      <th>date</th>\n",
       "      <th>time</th>\n",
       "      <th>chapter</th>\n",
       "      <th>level</th>\n",
       "      <th>session</th>\n",
       "      <th>serialNumber</th>\n",
       "      <th>attempt</th>\n",
       "      <th>trial</th>\n",
       "      <th>...</th>\n",
       "      <th>solType</th>\n",
       "      <th>repoBefore</th>\n",
       "      <th>repoAfter</th>\n",
       "      <th>repoBeforeEdit</th>\n",
       "      <th>repoAfterEdit</th>\n",
       "      <th>avtxyz</th>\n",
       "      <th>pathDist2opt</th>\n",
       "      <th>step</th>\n",
       "      <th>inxOptPath</th>\n",
       "      <th>stepsOptPath</th>\n",
       "    </tr>\n",
       "  </thead>\n",
       "  <tbody>\n",
       "    <tr>\n",
       "      <th>0</th>\n",
       "      <td>926245</td>\n",
       "      <td>301</td>\n",
       "      <td>2021-09-24</td>\n",
       "      <td>08:11:13</td>\n",
       "      <td>1.0</td>\n",
       "      <td>1.0</td>\n",
       "      <td>2.0</td>\n",
       "      <td>12</td>\n",
       "      <td>0.0</td>\n",
       "      <td>1.0</td>\n",
       "      <td>...</td>\n",
       "      <td>NaN</td>\n",
       "      <td>NaN</td>\n",
       "      <td>NaN</td>\n",
       "      <td>NaN</td>\n",
       "      <td>NaN</td>\n",
       "      <td>NaN</td>\n",
       "      <td>NaN</td>\n",
       "      <td>NaN</td>\n",
       "      <td>NaN</td>\n",
       "      <td>NaN</td>\n",
       "    </tr>\n",
       "    <tr>\n",
       "      <th>1</th>\n",
       "      <td>926244</td>\n",
       "      <td>301</td>\n",
       "      <td>2021-09-24</td>\n",
       "      <td>08:11:13</td>\n",
       "      <td>1.0</td>\n",
       "      <td>1.0</td>\n",
       "      <td>2.0</td>\n",
       "      <td>13</td>\n",
       "      <td>1.0</td>\n",
       "      <td>1.0</td>\n",
       "      <td>...</td>\n",
       "      <td>NaN</td>\n",
       "      <td>NaN</td>\n",
       "      <td>NaN</td>\n",
       "      <td>NaN</td>\n",
       "      <td>NaN</td>\n",
       "      <td>NaN</td>\n",
       "      <td>NaN</td>\n",
       "      <td>NaN</td>\n",
       "      <td>NaN</td>\n",
       "      <td>NaN</td>\n",
       "    </tr>\n",
       "    <tr>\n",
       "      <th>2</th>\n",
       "      <td>926196</td>\n",
       "      <td>301</td>\n",
       "      <td>2021-09-24</td>\n",
       "      <td>08:11:17</td>\n",
       "      <td>1.0</td>\n",
       "      <td>1.0</td>\n",
       "      <td>2.0</td>\n",
       "      <td>14</td>\n",
       "      <td>1.0</td>\n",
       "      <td>1.0</td>\n",
       "      <td>...</td>\n",
       "      <td>1</td>\n",
       "      <td>NaN</td>\n",
       "      <td>['Walk.Right']</td>\n",
       "      <td>NaN</td>\n",
       "      <td>Walk.R</td>\n",
       "      <td>NaN</td>\n",
       "      <td>NaN</td>\n",
       "      <td>NaN</td>\n",
       "      <td>NaN</td>\n",
       "      <td>NaN</td>\n",
       "    </tr>\n",
       "    <tr>\n",
       "      <th>3</th>\n",
       "      <td>926169</td>\n",
       "      <td>301</td>\n",
       "      <td>2021-09-24</td>\n",
       "      <td>08:11:19</td>\n",
       "      <td>1.0</td>\n",
       "      <td>1.0</td>\n",
       "      <td>2.0</td>\n",
       "      <td>15</td>\n",
       "      <td>1.0</td>\n",
       "      <td>1.0</td>\n",
       "      <td>...</td>\n",
       "      <td>1</td>\n",
       "      <td>['Walk.Right']</td>\n",
       "      <td>NaN</td>\n",
       "      <td>Walk.R</td>\n",
       "      <td>NaN</td>\n",
       "      <td>0.00,0.02,0.00</td>\n",
       "      <td>NaN</td>\n",
       "      <td>NaN</td>\n",
       "      <td>NaN</td>\n",
       "      <td>NaN</td>\n",
       "    </tr>\n",
       "    <tr>\n",
       "      <th>4</th>\n",
       "      <td>926168</td>\n",
       "      <td>301</td>\n",
       "      <td>2021-09-24</td>\n",
       "      <td>08:11:19</td>\n",
       "      <td>1.0</td>\n",
       "      <td>1.0</td>\n",
       "      <td>2.0</td>\n",
       "      <td>17</td>\n",
       "      <td>1.0</td>\n",
       "      <td>1.0</td>\n",
       "      <td>...</td>\n",
       "      <td>NaN</td>\n",
       "      <td>NaN</td>\n",
       "      <td>NaN</td>\n",
       "      <td>NaN</td>\n",
       "      <td>NaN</td>\n",
       "      <td>0.00,0.02,0.00</td>\n",
       "      <td>0.0</td>\n",
       "      <td>0.0</td>\n",
       "      <td>0.0</td>\n",
       "      <td>2.0</td>\n",
       "    </tr>\n",
       "  </tbody>\n",
       "</table>\n",
       "<p>5 rows × 33 columns</p>\n",
       "</div>"
      ],
      "text/plain": [
       "    index  childId        date      time  chapter  level  session  \\\n",
       "0  926245      301  2021-09-24  08:11:13      1.0    1.0      2.0   \n",
       "1  926244      301  2021-09-24  08:11:13      1.0    1.0      2.0   \n",
       "2  926196      301  2021-09-24  08:11:17      1.0    1.0      2.0   \n",
       "3  926169      301  2021-09-24  08:11:19      1.0    1.0      2.0   \n",
       "4  926168      301  2021-09-24  08:11:19      1.0    1.0      2.0   \n",
       "\n",
       "   serialNumber  attempt  trial  ...  solType      repoBefore       repoAfter  \\\n",
       "0            12      0.0    1.0  ...      NaN             NaN             NaN   \n",
       "1            13      1.0    1.0  ...      NaN             NaN             NaN   \n",
       "2            14      1.0    1.0  ...        1             NaN  ['Walk.Right']   \n",
       "3            15      1.0    1.0  ...        1  ['Walk.Right']             NaN   \n",
       "4            17      1.0    1.0  ...      NaN             NaN             NaN   \n",
       "\n",
       "  repoBeforeEdit repoAfterEdit          avtxyz  pathDist2opt  step  \\\n",
       "0            NaN           NaN             NaN           NaN   NaN   \n",
       "1            NaN           NaN             NaN           NaN   NaN   \n",
       "2            NaN        Walk.R             NaN           NaN   NaN   \n",
       "3         Walk.R           NaN  0.00,0.02,0.00           NaN   NaN   \n",
       "4            NaN           NaN  0.00,0.02,0.00           0.0   0.0   \n",
       "\n",
       "   inxOptPath  stepsOptPath  \n",
       "0         NaN           NaN  \n",
       "1         NaN           NaN  \n",
       "2         NaN           NaN  \n",
       "3         NaN           NaN  \n",
       "4         0.0           2.0  \n",
       "\n",
       "[5 rows x 33 columns]"
      ]
     },
     "execution_count": 3,
     "metadata": {},
     "output_type": "execute_result"
    }
   ],
   "source": [
    "data.head()"
   ]
  },
  {
   "cell_type": "code",
   "execution_count": 4,
   "id": "c0e864f8",
   "metadata": {
    "scrolled": false
   },
   "outputs": [
    {
     "data": {
      "text/html": [
       "<div>\n",
       "<style scoped>\n",
       "    .dataframe tbody tr th:only-of-type {\n",
       "        vertical-align: middle;\n",
       "    }\n",
       "\n",
       "    .dataframe tbody tr th {\n",
       "        vertical-align: top;\n",
       "    }\n",
       "\n",
       "    .dataframe thead th {\n",
       "        text-align: right;\n",
       "    }\n",
       "</style>\n",
       "<table border=\"1\" class=\"dataframe\">\n",
       "  <thead>\n",
       "    <tr style=\"text-align: right;\">\n",
       "      <th></th>\n",
       "      <th>Name</th>\n",
       "      <th>Description</th>\n",
       "      <th>Rule or Formula</th>\n",
       "      <th>Values</th>\n",
       "    </tr>\n",
       "  </thead>\n",
       "  <tbody>\n",
       "    <tr>\n",
       "      <th>0</th>\n",
       "      <td>index</td>\n",
       "      <td>unique row number created in python</td>\n",
       "      <td>NaN</td>\n",
       "      <td>NaN</td>\n",
       "    </tr>\n",
       "    <tr>\n",
       "      <th>1</th>\n",
       "      <td>childId</td>\n",
       "      <td>Internal Child ID</td>\n",
       "      <td>internal mapping</td>\n",
       "      <td>100-199: data collection 2019-20\\n200-299: dat...</td>\n",
       "    </tr>\n",
       "    <tr>\n",
       "      <th>2</th>\n",
       "      <td>chapter</td>\n",
       "      <td>codeSpark chapter</td>\n",
       "      <td>as defined by codeSpark</td>\n",
       "      <td>1: Donut Detective Chapter\\n2: ...\\n3: ...\\n4:...</td>\n",
       "    </tr>\n",
       "    <tr>\n",
       "      <th>3</th>\n",
       "      <td>level</td>\n",
       "      <td>codeSpark level</td>\n",
       "      <td>as defined by codeSpark</td>\n",
       "      <td>1-19, each chapter has a different number of l...</td>\n",
       "    </tr>\n",
       "    <tr>\n",
       "      <th>4</th>\n",
       "      <td>session</td>\n",
       "      <td>codeSpark session</td>\n",
       "      <td>as defined by codeSpark: a session starts at a...</td>\n",
       "      <td>1, 2, 3 ..</td>\n",
       "    </tr>\n",
       "  </tbody>\n",
       "</table>\n",
       "</div>"
      ],
      "text/plain": [
       "      Name                          Description  \\\n",
       "0    index  unique row number created in python   \n",
       "1  childId                    Internal Child ID   \n",
       "2  chapter                    codeSpark chapter   \n",
       "3    level                      codeSpark level   \n",
       "4  session                    codeSpark session   \n",
       "\n",
       "                                     Rule or Formula  \\\n",
       "0                                                NaN   \n",
       "1                                   internal mapping   \n",
       "2                            as defined by codeSpark   \n",
       "3                            as defined by codeSpark   \n",
       "4  as defined by codeSpark: a session starts at a...   \n",
       "\n",
       "                                              Values  \n",
       "0                                                NaN  \n",
       "1  100-199: data collection 2019-20\\n200-299: dat...  \n",
       "2  1: Donut Detective Chapter\\n2: ...\\n3: ...\\n4:...  \n",
       "3  1-19, each chapter has a different number of l...  \n",
       "4                                         1, 2, 3 ..  "
      ]
     },
     "execution_count": 4,
     "metadata": {},
     "output_type": "execute_result"
    }
   ],
   "source": [
    "codebook.head()"
   ]
  },
  {
   "cell_type": "code",
   "execution_count": 5,
   "id": "cf03ac36",
   "metadata": {},
   "outputs": [
    {
     "data": {
      "text/plain": [
       "0                   unique row number created in python\n",
       "1                                     Internal Child ID\n",
       "2                                     codeSpark chapter\n",
       "3                                       codeSpark level\n",
       "4                                     codeSpark session\n",
       "5     Part of a session, an attempt includes startin...\n",
       "6     Part of an attempt. Each edit/execute sequence...\n",
       "7     Timestamps used to link the gameplay telemetry...\n",
       "8         event time in Pacific Time in format HH:mm:ss\n",
       "9                       event data in format YYYY-MM-DD\n",
       "10                                                  NaN\n",
       "11                                                  NaN\n",
       "12         avatar position in x,y Cartesian coordinates\n",
       "13                                                  NaN\n",
       "14                            number of edits per trial\n",
       "15    number of edits per trial that don't change Co...\n",
       "16     number of edits per trial that decrease CodeDist\n",
       "17     number of edits per trial that increase CodeDist\n",
       "18              number of CommandAdded events per trial\n",
       "19            number of CommandReorder events per trial\n",
       "20            number of CommandRemoved events per trial\n",
       "21    number of CommandParameterChange events per trial\n",
       "22    number of CommandParameterCancel events per trial\n",
       "23          number of CommandAddFailed events per trial\n",
       "24                           CodeDist at start of trial\n",
       "25                             CodeDist at end of trial\n",
       "26                        Maximum CodeDist during trial\n",
       "27                        Minimum CodeDist during trial\n",
       "28    Duration of code edits in seconds and millisec...\n",
       "29        number of StartExecuteTrigger events in trial\n",
       "30                       first code edit event in trial\n",
       "31    number of commands in code tray at start of trial\n",
       "32    number of code edits that increase CodeDist du...\n",
       "33         number of code edits during \"modeling phase\"\n",
       "34    parameter sent with PuzzleResult event, descri...\n",
       "35                     number of GoBack events in trial\n",
       "36    code edit in this trial continues with code in...\n",
       "37                                                  NaN\n",
       "38                                                  NaN\n",
       "39    A cleanup is defined as two or more continguou...\n",
       "40    number of code changes during trial that rever...\n",
       "41    number of code changes during trial that rever...\n",
       "Name: Description, dtype: object"
      ]
     },
     "execution_count": 5,
     "metadata": {},
     "output_type": "execute_result"
    }
   ],
   "source": [
    "codebook[\"Description\"]"
   ]
  },
  {
   "cell_type": "markdown",
   "id": "fcdfd338",
   "metadata": {},
   "source": [
    "data dictionary: https://docs.google.com/spreadsheets/d/1ettljIuY46tLbEZXc-H_ktKAatYMLsBYH2KKca-FkXM/edit#gid=0"
   ]
  },
  {
   "cell_type": "code",
   "execution_count": 6,
   "id": "01b0020d",
   "metadata": {
    "scrolled": false
   },
   "outputs": [
    {
     "data": {
      "text/plain": [
       "(401940, 33)"
      ]
     },
     "execution_count": 6,
     "metadata": {},
     "output_type": "execute_result"
    }
   ],
   "source": [
    "data.shape"
   ]
  },
  {
   "cell_type": "code",
   "execution_count": 7,
   "id": "d2a6b047",
   "metadata": {
    "scrolled": true
   },
   "outputs": [
    {
     "data": {
      "text/plain": [
       "Index(['index', 'childId', 'date', 'time', 'chapter', 'level', 'session',\n",
       "       'serialNumber', 'attempt', 'trial', 'pause_s', 'sessionTimestamp',\n",
       "       'sms', 'eventDescription', 'param', 'avtPos', 'distChange',\n",
       "       'dist2optMax', 'dist2optBefore', 'dist2optAfter', 'nofCmdsBest',\n",
       "       'nofCmdsBefore', 'nofCmdsAfter', 'solType', 'repoBefore', 'repoAfter',\n",
       "       'repoBeforeEdit', 'repoAfterEdit', 'avtxyz', 'pathDist2opt', 'step',\n",
       "       'inxOptPath', 'stepsOptPath'],\n",
       "      dtype='object')"
      ]
     },
     "execution_count": 7,
     "metadata": {},
     "output_type": "execute_result"
    }
   ],
   "source": [
    "data.columns"
   ]
  },
  {
   "cell_type": "code",
   "execution_count": 8,
   "id": "c3573b01",
   "metadata": {},
   "outputs": [
    {
     "data": {
      "text/plain": [
       "index                    0\n",
       "childId                  0\n",
       "date                     0\n",
       "time                     0\n",
       "chapter                216\n",
       "level                  216\n",
       "session                  0\n",
       "serialNumber             0\n",
       "attempt                  0\n",
       "trial                    0\n",
       "pause_s                747\n",
       "sessionTimestamp         0\n",
       "sms                      0\n",
       "eventDescription         0\n",
       "param               264916\n",
       "avtPos               78574\n",
       "distChange          299980\n",
       "dist2optMax         299980\n",
       "dist2optBefore      299980\n",
       "dist2optAfter       299980\n",
       "nofCmdsBest         299980\n",
       "nofCmdsBefore       299980\n",
       "nofCmdsAfter        299980\n",
       "solType             284333\n",
       "repoBefore          272059\n",
       "repoAfter           303233\n",
       "repoBeforeEdit      272059\n",
       "repoAfterEdit       303233\n",
       "avtxyz              137242\n",
       "pathDist2opt        280450\n",
       "step                280450\n",
       "inxOptPath          280450\n",
       "stepsOptPath        280450\n",
       "dtype: int64"
      ]
     },
     "execution_count": 8,
     "metadata": {},
     "output_type": "execute_result"
    }
   ],
   "source": [
    "# dealing with NaN\n",
    "data.isnull().sum()"
   ]
  },
  {
   "cell_type": "code",
   "execution_count": 9,
   "id": "119aa6de",
   "metadata": {},
   "outputs": [],
   "source": [
    "df = data.copy()"
   ]
  },
  {
   "cell_type": "code",
   "execution_count": 10,
   "id": "0415ec13",
   "metadata": {},
   "outputs": [],
   "source": [
    "df.drop(columns = ['index', 'param', 'avtPos', 'distChange',\n",
    "       'dist2optMax', 'dist2optBefore', 'dist2optAfter', 'nofCmdsBest',\n",
    "       'nofCmdsBefore', 'nofCmdsAfter', 'solType', 'repoBefore', 'repoAfter',\n",
    "       'repoBeforeEdit', 'repoAfterEdit', 'avtxyz', 'pathDist2opt', 'step',\n",
    "       'inxOptPath', 'stepsOptPath'], inplace = True)"
   ]
  },
  {
   "cell_type": "code",
   "execution_count": 11,
   "id": "2d659535",
   "metadata": {
    "scrolled": false
   },
   "outputs": [
    {
     "data": {
      "text/html": [
       "<div>\n",
       "<style scoped>\n",
       "    .dataframe tbody tr th:only-of-type {\n",
       "        vertical-align: middle;\n",
       "    }\n",
       "\n",
       "    .dataframe tbody tr th {\n",
       "        vertical-align: top;\n",
       "    }\n",
       "\n",
       "    .dataframe thead th {\n",
       "        text-align: right;\n",
       "    }\n",
       "</style>\n",
       "<table border=\"1\" class=\"dataframe\">\n",
       "  <thead>\n",
       "    <tr style=\"text-align: right;\">\n",
       "      <th></th>\n",
       "      <th>childId</th>\n",
       "      <th>date</th>\n",
       "      <th>time</th>\n",
       "      <th>chapter</th>\n",
       "      <th>level</th>\n",
       "      <th>session</th>\n",
       "      <th>serialNumber</th>\n",
       "      <th>attempt</th>\n",
       "      <th>trial</th>\n",
       "      <th>pause_s</th>\n",
       "      <th>sessionTimestamp</th>\n",
       "      <th>sms</th>\n",
       "      <th>eventDescription</th>\n",
       "    </tr>\n",
       "  </thead>\n",
       "  <tbody>\n",
       "    <tr>\n",
       "      <th>0</th>\n",
       "      <td>301</td>\n",
       "      <td>2021-09-24</td>\n",
       "      <td>08:11:13</td>\n",
       "      <td>1.0</td>\n",
       "      <td>1.0</td>\n",
       "      <td>2.0</td>\n",
       "      <td>12</td>\n",
       "      <td>0.0</td>\n",
       "      <td>1.0</td>\n",
       "      <td>NaN</td>\n",
       "      <td>767832.907</td>\n",
       "      <td>0.0</td>\n",
       "      <td>PuzzleIntroDone</td>\n",
       "    </tr>\n",
       "    <tr>\n",
       "      <th>1</th>\n",
       "      <td>301</td>\n",
       "      <td>2021-09-24</td>\n",
       "      <td>08:11:13</td>\n",
       "      <td>1.0</td>\n",
       "      <td>1.0</td>\n",
       "      <td>2.0</td>\n",
       "      <td>13</td>\n",
       "      <td>1.0</td>\n",
       "      <td>1.0</td>\n",
       "      <td>0.1</td>\n",
       "      <td>767841.254</td>\n",
       "      <td>0.0</td>\n",
       "      <td>PuzzleStart</td>\n",
       "    </tr>\n",
       "    <tr>\n",
       "      <th>2</th>\n",
       "      <td>301</td>\n",
       "      <td>2021-09-24</td>\n",
       "      <td>08:11:17</td>\n",
       "      <td>1.0</td>\n",
       "      <td>1.0</td>\n",
       "      <td>2.0</td>\n",
       "      <td>14</td>\n",
       "      <td>1.0</td>\n",
       "      <td>1.0</td>\n",
       "      <td>3.8</td>\n",
       "      <td>771640.313</td>\n",
       "      <td>3.8</td>\n",
       "      <td>CommandAdded</td>\n",
       "    </tr>\n",
       "    <tr>\n",
       "      <th>3</th>\n",
       "      <td>301</td>\n",
       "      <td>2021-09-24</td>\n",
       "      <td>08:11:19</td>\n",
       "      <td>1.0</td>\n",
       "      <td>1.0</td>\n",
       "      <td>2.0</td>\n",
       "      <td>15</td>\n",
       "      <td>1.0</td>\n",
       "      <td>1.0</td>\n",
       "      <td>2.0</td>\n",
       "      <td>773623.663</td>\n",
       "      <td>5.8</td>\n",
       "      <td>StartExecuteTrigger</td>\n",
       "    </tr>\n",
       "    <tr>\n",
       "      <th>4</th>\n",
       "      <td>301</td>\n",
       "      <td>2021-09-24</td>\n",
       "      <td>08:11:19</td>\n",
       "      <td>1.0</td>\n",
       "      <td>1.0</td>\n",
       "      <td>2.0</td>\n",
       "      <td>17</td>\n",
       "      <td>1.0</td>\n",
       "      <td>1.0</td>\n",
       "      <td>0.2</td>\n",
       "      <td>773751.507</td>\n",
       "      <td>5.9</td>\n",
       "      <td>ExecuteTriggerCommand</td>\n",
       "    </tr>\n",
       "  </tbody>\n",
       "</table>\n",
       "</div>"
      ],
      "text/plain": [
       "   childId        date      time  chapter  level  session  serialNumber  \\\n",
       "0      301  2021-09-24  08:11:13      1.0    1.0      2.0            12   \n",
       "1      301  2021-09-24  08:11:13      1.0    1.0      2.0            13   \n",
       "2      301  2021-09-24  08:11:17      1.0    1.0      2.0            14   \n",
       "3      301  2021-09-24  08:11:19      1.0    1.0      2.0            15   \n",
       "4      301  2021-09-24  08:11:19      1.0    1.0      2.0            17   \n",
       "\n",
       "   attempt  trial  pause_s  sessionTimestamp  sms       eventDescription  \n",
       "0      0.0    1.0      NaN        767832.907  0.0        PuzzleIntroDone  \n",
       "1      1.0    1.0      0.1        767841.254  0.0            PuzzleStart  \n",
       "2      1.0    1.0      3.8        771640.313  3.8           CommandAdded  \n",
       "3      1.0    1.0      2.0        773623.663  5.8    StartExecuteTrigger  \n",
       "4      1.0    1.0      0.2        773751.507  5.9  ExecuteTriggerCommand  "
      ]
     },
     "execution_count": 11,
     "metadata": {},
     "output_type": "execute_result"
    }
   ],
   "source": [
    "df.head()"
   ]
  },
  {
   "cell_type": "code",
   "execution_count": null,
   "id": "2b3d7d6b",
   "metadata": {
    "scrolled": true
   },
   "outputs": [],
   "source": [
    "for col in df.columns:\n",
    "    print('{} : {} unique values'.format(col, len(df[col].unique())))"
   ]
  },
  {
   "cell_type": "code",
   "execution_count": null,
   "id": "a8707b14",
   "metadata": {},
   "outputs": [],
   "source": []
  },
  {
   "cell_type": "code",
   "execution_count": null,
   "id": "401b3466",
   "metadata": {},
   "outputs": [],
   "source": []
  },
  {
   "cell_type": "code",
   "execution_count": null,
   "id": "b09fc97d",
   "metadata": {},
   "outputs": [],
   "source": []
  },
  {
   "cell_type": "code",
   "execution_count": null,
   "id": "dd1cb7e7",
   "metadata": {},
   "outputs": [],
   "source": []
  },
  {
   "cell_type": "code",
   "execution_count": null,
   "id": "1ece4355",
   "metadata": {},
   "outputs": [],
   "source": []
  },
  {
   "cell_type": "code",
   "execution_count": null,
   "id": "eb5378ed",
   "metadata": {},
   "outputs": [],
   "source": []
  },
  {
   "cell_type": "code",
   "execution_count": null,
   "id": "7d975405",
   "metadata": {},
   "outputs": [],
   "source": []
  }
 ],
 "metadata": {
  "kernelspec": {
   "display_name": "Python 3",
   "language": "python",
   "name": "python3"
  },
  "language_info": {
   "codemirror_mode": {
    "name": "ipython",
    "version": 3
   },
   "file_extension": ".py",
   "mimetype": "text/x-python",
   "name": "python",
   "nbconvert_exporter": "python",
   "pygments_lexer": "ipython3",
   "version": "3.8.8"
  },
  "toc": {
   "base_numbering": 1,
   "nav_menu": {},
   "number_sections": true,
   "sideBar": true,
   "skip_h1_title": false,
   "title_cell": "Table of Contents",
   "title_sidebar": "Contents",
   "toc_cell": false,
   "toc_position": {},
   "toc_section_display": true,
   "toc_window_display": false
  }
 },
 "nbformat": 4,
 "nbformat_minor": 5
}
